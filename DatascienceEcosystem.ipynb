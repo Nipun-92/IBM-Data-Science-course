{
 "cells": [
  {
   "cell_type": "markdown",
   "id": "fda28872-6c98-414c-9960-804ab77e0fcc",
   "metadata": {},
   "source": [
    "## DataScience Tools and Eco systems"
   ]
  },
  {
   "cell_type": "markdown",
   "id": "55574049-9efc-4a8d-acfa-0966079d1e6b",
   "metadata": {},
   "source": [
    "In this notebook, Data sceince Tools and Ecosystems are summarised"
   ]
  },
  {
   "cell_type": "markdown",
   "id": "aa48fc20-d2e7-45f0-8e21-e06bc75da4c6",
   "metadata": {},
   "source": [
    "**Objectives:**\n",
    "\n",
    "- List popular programming languages for Data Science.\n",
    "- Introduce common data science libraries used by data scientists.\n",
    "- Demonstrate creating Markdown cells and basic Markdown syntax in Jupyter Notebook.\n",
    "- Perform arithmetic operations and basic calculations in Python code cells.\n",
    "- Convert units (e.g., minutes to hours) using Python code cells.\n"
   ]
  },
  {
   "cell_type": "markdown",
   "id": "dd6261ea-dc34-4ce1-bb01-eb357a57bd82",
   "metadata": {},
   "source": [
    "Some of the commonly used languages that Data sciecntists use are :\n",
    "\n",
    "1. Python\n",
    "2. R\n",
    "3. Java\n",
    "4. Java\n",
    "5. Julia\n"
   ]
  },
  {
   "cell_type": "markdown",
   "id": "540dc32d-03bf-406f-be34-ec650b96d680",
   "metadata": {},
   "source": [
    "Some of the most commonly used libraries used by Data scients include :\n",
    "\n",
    "1. pandas\n",
    "2. NumPy\n",
    "3. Scikit-learn \n",
    "4. Matplotlib"
   ]
  },
  {
   "cell_type": "markdown",
   "id": "7aca4ef5-06ef-4d0c-b400-b6e1d44c47a6",
   "metadata": {
    "tags": []
   },
   "source": [
    "Data science tools \n",
    "\n",
    "# Data Science Tools\n",
    "\n",
    "| Data Science Tools                   |\n",
    "|--------------------------------------|\n",
    "| Jupyter Notebook                     |\n",
    "| RStudio                              |\n",
    "| Visual Studio Code                   |\n"
   ]
  },
  {
   "cell_type": "markdown",
   "id": "01369eb4-2909-4bc5-91df-7ba875191cbf",
   "metadata": {},
   "source": [
    "Below are a few examples of evaluating arithmetic expressions in Python\n",
    "\n",
    "### Arithmetic Expression Examples\n",
    "\n",
    "1. **Addition**: `5 + 3` results in `8`.\n",
    "2. **Subtraction**: `10 - 4` results in `6`.\n",
    "3. **Multiplication**: `7 * 2` results in `14`.\n",
    "4. **Division**: `20 / 4` results in `5.0`.\n",
    "\n"
   ]
  },
  {
   "cell_type": "code",
   "execution_count": 6,
   "id": "b09073fa-5d3c-4e98-9de5-eaa57d569e80",
   "metadata": {
    "tags": []
   },
   "outputs": [
    {
     "name": "stdout",
     "output_type": "stream",
     "text": [
      "17\n"
     ]
    }
   ],
   "source": [
    "# This is a simple arithmetic expression to multiply then add integers\n",
    "answer = (3 * 4) + 5\n",
    "print(answer)\n"
   ]
  },
  {
   "cell_type": "code",
   "execution_count": 7,
   "id": "2e1dcbce-dc55-4475-a2c9-b6dd0907273a",
   "metadata": {
    "tags": []
   },
   "outputs": [
    {
     "name": "stdout",
     "output_type": "stream",
     "text": [
      "3.3333333333333335\n"
     ]
    }
   ],
   "source": [
    "# This will convert 200 minutes to hours by dividing by 60\n",
    "minutes = 200\n",
    "hours = minutes / 60\n",
    "print(hours)\n"
   ]
  },
  {
   "cell_type": "code",
   "execution_count": null,
   "id": "528b4ed7-6c19-4d0f-8930-3aa2d85e1b50",
   "metadata": {},
   "outputs": [],
   "source": [
    "## Author\n",
    "\n",
    "Nipun Jain\n"
   ]
  }
 ],
 "metadata": {
  "kernelspec": {
   "display_name": "Python",
   "language": "python",
   "name": "conda-env-python-py"
  },
  "language_info": {
   "codemirror_mode": {
    "name": "ipython",
    "version": 3
   },
   "file_extension": ".py",
   "mimetype": "text/x-python",
   "name": "python",
   "nbconvert_exporter": "python",
   "pygments_lexer": "ipython3",
   "version": "3.7.12"
  }
 },
 "nbformat": 4,
 "nbformat_minor": 5
}
